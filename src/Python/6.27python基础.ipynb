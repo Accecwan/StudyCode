{
 "cells": [
  {
   "cell_type": "markdown",
   "metadata": {},
   "source": [
    "> 参考廖雪峰的网站：https://liaoxuefeng.com/books/python/first-program/text-editor/index.html\n",
    "> 用于保研专业知识复习"
   ]
  },
  {
   "cell_type": "markdown",
   "metadata": {},
   "source": [
    "# 一、基础\n",
    "## 1. 输出与输入\n",
    "### 1.1 输出print()\n",
    "用print()在括号中加上字符串，就可以向屏幕上输出指定的文字。"
   ]
  },
  {
   "cell_type": "code",
   "execution_count": 30,
   "metadata": {},
   "outputs": [
    {
     "name": "stdout",
     "output_type": "stream",
     "text": [
      "Hello World!\n",
      "Hello World Python !\n",
      "300\n",
      "400\n",
      "200+200 = 400\n",
      "786432\n"
     ]
    }
   ],
   "source": [
    "print('Hello World!')\n",
    "print('Hello World', 'Python', '!')\n",
    "print(300)\n",
    "print(200+200)\n",
    "print('200+200 =', 200+200)\n",
    "print(1024 * 768)\n"
   ]
  },
  {
   "cell_type": "markdown",
   "metadata": {},
   "source": [
    "### 1.2 输入input()\n",
    "Python提供了一个input()，可以让用户输入字符串，并存放到一个变量里"
   ]
  },
  {
   "cell_type": "code",
   "execution_count": 31,
   "metadata": {},
   "outputs": [],
   "source": [
    "name = input()"
   ]
  },
  {
   "cell_type": "code",
   "execution_count": 32,
   "metadata": {},
   "outputs": [
    {
     "data": {
      "text/plain": [
       "''"
      ]
     },
     "execution_count": 32,
     "metadata": {},
     "output_type": "execute_result"
    }
   ],
   "source": [
    "name"
   ]
  },
  {
   "cell_type": "code",
   "execution_count": 33,
   "metadata": {},
   "outputs": [
    {
     "name": "stdout",
     "output_type": "stream",
     "text": [
      "\n"
     ]
    }
   ],
   "source": [
    "print(name)"
   ]
  },
  {
   "cell_type": "markdown",
   "metadata": {},
   "source": [
    "## 2. 一段简单的python代码"
   ]
  },
  {
   "cell_type": "code",
   "execution_count": 34,
   "metadata": {},
   "outputs": [
    {
     "name": "stdout",
     "output_type": "stream",
     "text": [
      "100\n"
     ]
    }
   ],
   "source": [
    "a = 100\n",
    "if a > 0:\n",
    "    print(a)\n",
    "else:\n",
    "    print(-a)"
   ]
  },
  {
   "cell_type": "markdown",
   "metadata": {},
   "source": [
    "## 3. 数据类型与变量\n",
    "\n",
    "### 3.1 整数\n",
    "1. 任意大小的整数：1，,00，-8080；\n",
    "2. 十六进制的整数：0xff00，0xa5b4c3d2；\n",
    "3. 很大的数允许在数字中间以`_`分隔：10_000_000_000等同于10000000000。\n",
    "\n",
    "### 3.2 浮点数\n",
    "1.23x109就是1.23e9，或者12.3e8，0.000012可以写成1.2e-5。\n",
    "\n",
    "### 3.3 字符串\n",
    "1. 字符串是以单引号`'`或双引号`\"`括起来的任意文本。\n",
    "2. 转义字符`\\`。\n",
    "\n",
    "### 3.4 布尔值\n",
    "True 和 False \n",
    "\n",
    "### 3.5 空值\n",
    "空值是Python里一个特殊的值，用None表示。None不能理解为0，因为0是有意义的，而None是一个特殊的空值。\n",
    "\n",
    "### 3.6 常量\n",
    "常量就是不能变的变量。用全部大写的变量名表示常量。如 PI = 3.14159265359。\n",
    " "
   ]
  },
  {
   "cell_type": "markdown",
   "metadata": {},
   "source": [
    "## 4. 字符串和编码\n",
    "1. **ASCII编码：大写字母`A`的编码是`65`，小写字母`a`的编码是`97`，小写字母`z`的编码是`122`。**\n",
    "2. 对于单个字符的编码，**ord()函数可获取字符的整数表示，chr()函数把编码转换为对应的字符。**"
   ]
  },
  {
   "cell_type": "code",
   "execution_count": 35,
   "metadata": {},
   "outputs": [
    {
     "name": "stdout",
     "output_type": "stream",
     "text": [
      "65\n",
      "97\n",
      "B\n",
      "a\n"
     ]
    }
   ],
   "source": [
    "print(ord('A'))\n",
    "print(ord('a'))\n",
    "print(chr(66))\n",
    "print(chr(97))"
   ]
  },
  {
   "cell_type": "markdown",
   "metadata": {},
   "source": [
    "3. python中字符串类型是`str`，`len()`函数计算的是str的字符数。\n",
    "4. 如果要使用`bytes`类型的数据，需要用带`b`前缀的单引号或双引号表示，bytes的每个字符都只占用一个字节，此时`len()`函数就计算字节数。"
   ]
  },
  {
   "cell_type": "code",
   "execution_count": 36,
   "metadata": {},
   "outputs": [
    {
     "name": "stdout",
     "output_type": "stream",
     "text": [
      "4\n",
      "3\n"
     ]
    }
   ],
   "source": [
    "print(len('ABCD'))\n",
    "X = b'ABC'\n",
    "print(len(X))"
   ]
  },
  {
   "cell_type": "markdown",
   "metadata": {},
   "source": [
    "5. 格式化：`%`运算符用于格式化字符串。`%s`表示字符串，`%d`表示整数，`%x`表示十六进制整数，`%f`表示浮点数。\n",
    "6. 另一种格式化字符串的方法是使用以`f`开头的字符串，普通字符串不同之处在于，字符串如果包含`{xxx}`，就会以对应的变量替换。"
   ]
  },
  {
   "cell_type": "code",
   "execution_count": 37,
   "metadata": {},
   "outputs": [
    {
     "name": "stdout",
     "output_type": "stream",
     "text": [
      "The area of the circle with radius 2.5 is 19.62\n"
     ]
    }
   ],
   "source": [
    "r = 2.5\n",
    "s = 3.14 * r ** 2\n",
    "print(f'The area of the circle with radius {r} is {s:.2f}')\n",
    "# {s:.2f}被变量s的值替换，并且:后面的.2f指定了格式化参数（即保留两位小数）"
   ]
  },
  {
   "cell_type": "markdown",
   "metadata": {},
   "source": [
    "## 5. list与tuple\n",
    "### 5.1 list列表\n",
    "1. list是一种有序的集合，可以随时添加和删除其中的元素。\n",
    "2. `len()`函数可以获得list元素的个数。\n",
    "3. 使用索引来访问list中每一个位置的元素，索引从0开始，最后一个元素的索引是len(classmates) - 1。其中使用`-1`做索引，可以直接获取最后一个元素。\n",
    "4. 相关操作\n",
    "   > classmates.append('Adam')，往list中追加元素到末尾\n",
    "\n",
    "   > classmates.insert(1, 'Jack')，插入元素到指定位置\n",
    "\n",
    "   > classmates.pop()，删除list末尾的元素；classmates.pop(i)，删除指定位置的元素\n",
    "   \n",
    "   > classmates[1] = 'Sarah'，将某个元素替换成别的元素，直接赋值即可\n"
   ]
  },
  {
   "cell_type": "code",
   "execution_count": 38,
   "metadata": {},
   "outputs": [
    {
     "name": "stdout",
     "output_type": "stream",
     "text": [
      "classmates列表中的所有元素：['Michael', 'Bob', 'Tracy']\n",
      "classmates列表的长度：3\n",
      "第一个元素：Michael\n",
      "使用-1的方法获取最后一个元素：Tracy\n",
      "添加一个元素后：['Michael', 'Bob', 'Tracy', 'Adam']\n",
      "在第二个位置插入一个元素jack后：['Michael', 'Jack', 'Bob', 'Tracy', 'Adam']\n",
      "删除第二个元素后：['Michael', 'Bob', 'Tracy', 'Adam']\n",
      "修改第二个元素后：['Michael', 'Sarah', 'Tracy', 'Adam']\n"
     ]
    }
   ],
   "source": [
    "# list操作\n",
    "classmates = ['Michael', 'Bob', 'Tracy']\n",
    "print(f'classmates列表中的所有元素：{classmates}')\n",
    "print(f'classmates列表的长度：{len(classmates)}')\n",
    "print(f'第一个元素：{classmates[0]}')\n",
    "print(f'使用-1的方法获取最后一个元素：{classmates[-1]}')\n",
    "classmates.append('Adam')\n",
    "print(f'添加一个元素后：{classmates}')\n",
    "classmates.insert(1, 'Jack')\n",
    "print(f'在第二个位置插入一个元素jack后：{classmates}')\n",
    "classmates.pop(1)\n",
    "print(f'删除第二个元素后：{classmates}')\n",
    "classmates[1] = 'Sarah'\n",
    "print(f'修改第二个元素后：{classmates}')"
   ]
  },
  {
   "cell_type": "markdown",
   "metadata": {},
   "source": [
    "### 5.2 tuple元组\n",
    "tuple与list非常相似，但是tuple一旦初始化就不能修改"
   ]
  },
  {
   "cell_type": "code",
   "execution_count": 39,
   "metadata": {},
   "outputs": [
    {
     "name": "stdout",
     "output_type": "stream",
     "text": [
      "classmates元组中的所有元素：('Michael', 'Bob', 'Tracy')\n"
     ]
    }
   ],
   "source": [
    "classmates = ('Michael', 'Bob', 'Tracy')\n",
    "print(f'classmates元组中的所有元素：{classmates}')"
   ]
  },
  {
   "cell_type": "markdown",
   "metadata": {},
   "source": [
    "## 6. 条件判断if与模式匹配match\n",
    "> **注意：** `input()`返回的数据类型是`str`\n",
    "\n",
    "1. `if`语句：`if`、`elif`、`else`\n",
    "2. 模式匹配match，即`case`"
   ]
  },
  {
   "cell_type": "code",
   "execution_count": 41,
   "metadata": {},
   "outputs": [
    {
     "name": "stdout",
     "output_type": "stream",
     "text": [
      "11~18 years old.\n"
     ]
    }
   ],
   "source": [
    "age = 15\n",
    "\n",
    "match age:\n",
    "    case x if x < 10:\n",
    "        print(f'< 10 years old: {x}')\n",
    "    case 10:\n",
    "        print('10 years old.')\n",
    "    case 11 | 12 | 13 | 14 | 15 | 16 | 17 | 18:\n",
    "        print('11~18 years old.')\n",
    "    case 19:\n",
    "        print('19 years old.')\n",
    "    case _:\n",
    "        print('not sure.')"
   ]
  },
  {
   "cell_type": "markdown",
   "metadata": {},
   "source": [
    "## 7. 循环\n",
    "1. 两种循环：`for`和`while`循环 "
   ]
  },
  {
   "cell_type": "code",
   "execution_count": 42,
   "metadata": {},
   "outputs": [
    {
     "name": "stdout",
     "output_type": "stream",
     "text": [
      "Michael\n",
      "Bob\n",
      "Tracy\n"
     ]
    }
   ],
   "source": [
    "names = ['Michael', 'Bob', 'Tracy']\n",
    "for name in names:\n",
    "    print(name)"
   ]
  },
  {
   "cell_type": "markdown",
   "metadata": {},
   "source": [
    "2. `range()`函数可以生成一个整数序列，再通过`list()`函数转换为list"
   ]
  },
  {
   "cell_type": "code",
   "execution_count": 45,
   "metadata": {},
   "outputs": [
    {
     "name": "stdout",
     "output_type": "stream",
     "text": [
      "[0, 1, 2, 3, 4]\n",
      "10\n"
     ]
    }
   ],
   "source": [
    "list(range(5)) \n",
    "print(list(range(5))) \n",
    "sum = 0\n",
    "for x in range(5):\n",
    "    sum += x\n",
    "print(sum)"
   ]
  },
  {
   "cell_type": "markdown",
   "metadata": {},
   "source": [
    "3. 在循环中，使用`break`语句可以提前退出循环\n",
    "4. `continue`语句表示跳过当前的这个循环，直接进入下一次循环"
   ]
  },
  {
   "cell_type": "markdown",
   "metadata": {},
   "source": [
    "## 8. dict 与 set"
   ]
  },
  {
   "cell_type": "markdown",
   "metadata": {},
   "source": [
    "### 8.1 dict\n",
    "> dict 即 dictionary字典，在其他语言中为map，使用键-值(key-value)存储，具有极快的查找速度。\n",
    "\n",
    "如果用dict实现，只需要一个“名字”-“成绩”的对照表，直接根据名字查找成绩，无论这个表有多大，查找速度都不会变慢。\n",
    "\n",
    "实现原理：给定一个名字，比如'Michael'，dict在内部就可以直接计算出Michael对应的存放成绩的“页码”，也就是95这个数字存放的内存地址，直接取出来，所以速度非常快。"
   ]
  },
  {
   "cell_type": "code",
   "execution_count": 54,
   "metadata": {},
   "outputs": [
    {
     "name": "stdout",
     "output_type": "stream",
     "text": [
      "Michael的分数：95\n",
      "添加Adam的分数后：{'Michael': 95, 'Bob': 75, 'Tracy': 85, 'Adam': 67}\n",
      "Adam的分数：67\n"
     ]
    }
   ],
   "source": [
    "d = {'Michael': 95, 'Bob': 75, 'Tracy': 85}\n",
    "print(f'Michael的分数：{d['Michael']}')\n",
    "\n",
    "d['Adam'] = 67\n",
    "print(f'添加Adam的分数后：{d}')\n",
    "print(f'Adam的分数：{d['Adam']}')  # 如果没有Adam，返回-1"
   ]
  },
  {
   "cell_type": "markdown",
   "metadata": {},
   "source": [
    "1. 查看某个字符是否存在：1）通过`in`判断；2）通过dict提供的`get()`方法，如果key不存在，可以返回None，或者自己指定的value\n",
    "2. 删除key，使用`pop(key)`\n",
    "3. dict与list比较\n",
    "   >dict有以下几个特点：\n",
    "   - 查找和插入的速度极快，不会随着key的增加而变慢；\n",
    "   - 需要占用大量的内存，内存浪费多。\n",
    "\n",
    "    >list特点：\n",
    "    - 查找和插入的时间随着元素的增加而增加；\n",
    "    - 占用空间小，浪费内存很少。\n",
    "  \n",
    "所以，dict是用空间来换取时间的一种方法。"
   ]
  },
  {
   "cell_type": "code",
   "execution_count": 55,
   "metadata": {},
   "outputs": [
    {
     "name": "stdout",
     "output_type": "stream",
     "text": [
      "删除Adam后：{'Michael': 95, 'Bob': 75, 'Tracy': 85}\n"
     ]
    }
   ],
   "source": [
    "'Tom' in d\n",
    "\n",
    "dict.get(d, 'Tom')\n",
    "\n",
    "dict.pop(d, 'Adam')\n",
    "print(f'删除Adam后：{d}')"
   ]
  },
  {
   "cell_type": "markdown",
   "metadata": {},
   "source": [
    "### 8.2 set\n",
    "set与dict类似，也是一组key的集合，但**不存储value**。\n",
    "\n",
    "并且，由于key不能重复，因此在set中，没有重复的key。即，重复元素在set中自动被过滤。"
   ]
  },
  {
   "cell_type": "code",
   "execution_count": 1,
   "metadata": {},
   "outputs": [
    {
     "data": {
      "text/plain": [
       "{1, 2, 3}"
      ]
     },
     "execution_count": 1,
     "metadata": {},
     "output_type": "execute_result"
    }
   ],
   "source": [
    "s = {1,2,3}\n",
    "s"
   ]
  },
  {
   "cell_type": "code",
   "execution_count": 2,
   "metadata": {},
   "outputs": [
    {
     "data": {
      "text/plain": [
       "{1, 2, 3}"
      ]
     },
     "execution_count": 2,
     "metadata": {},
     "output_type": "execute_result"
    }
   ],
   "source": [
    "set1 = set([1,2,3])\n",
    "set1"
   ]
  },
  {
   "cell_type": "code",
   "execution_count": null,
   "metadata": {},
   "outputs": [
    {
     "data": {
      "text/plain": [
       "{1, 2, 3, 4, 5}"
      ]
     },
     "execution_count": 3,
     "metadata": {},
     "output_type": "execute_result"
    }
   ],
   "source": [
    "set2 = set([1,2,1,2,3,4,5,5]) # 重复元素在set中自动被过滤\n",
    "set2"
   ]
  },
  {
   "cell_type": "markdown",
   "metadata": {},
   "source": [
    "> 可以使用`add(key)`添加元素，使用`remove(key)`来删除元素。\n",
    "\n",
    "> 两个set可以做数学意义上的交集`&`和并集`|`等操作。 "
   ]
  }
 ],
 "metadata": {
  "kernelspec": {
   "display_name": "base",
   "language": "python",
   "name": "python3"
  },
  "language_info": {
   "codemirror_mode": {
    "name": "ipython",
    "version": 3
   },
   "file_extension": ".py",
   "mimetype": "text/x-python",
   "name": "python",
   "nbconvert_exporter": "python",
   "pygments_lexer": "ipython3",
   "version": "3.12.7"
  }
 },
 "nbformat": 4,
 "nbformat_minor": 2
}
